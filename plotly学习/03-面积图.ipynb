{
 "cells": [
  {
   "cell_type": "markdown",
   "metadata": {},
   "source": [
    "# 面积图（区域图） Filled Area Plots\n",
    "\n",
    "此示例演示如何填充由跟踪包围的区域。\n",
    "\n",
    "This example shows how to fill the area enclosed by traces.\n",
    "\n",
    "## 用`plotly.express`绘制面积图\n",
    "\n",
    "`px.area`创建堆叠面积图。每个填充的区域对应于由`line_group`参数给出的列的一个值。\n",
    "\n",
    "`px.area` creates a stacked area plot. Each filled area corresponds to one value of the column given by the `line_group` parameter.\n"
   ]
  },
  {
   "cell_type": "code",
   "execution_count": null,
   "metadata": {},
   "outputs": [],
   "source": [
    "import plotly.express as px\n",
    "df = px.data.gapminder()\n",
    "fig = px.area(\n",
    "    df, \n",
    "    x=\"year\", \n",
    "    y=\"pop\", \n",
    "    color=\"continent\",\n",
    "    line_group=\"country\"\n",
    ")\n",
    "fig.show()\n"
   ]
  },
  {
   "cell_type": "markdown",
   "metadata": {},
   "source": [
    "## 用`plotly.graph_objects`绘制面积图 Filled area plot with plotly.express\n",
    "\n",
    "### 基本重叠面积图 Basic Overlaid Area Chart\n"
   ]
  },
  {
   "cell_type": "code",
   "execution_count": null,
   "metadata": {},
   "outputs": [],
   "source": [
    "import plotly.graph_objects as go\n",
    "\n",
    "fig = go.Figure()\n",
    "fig.add_trace(go.Scatter(x=[1, 2, 3, 4], y=[0, 2, 3, 5], fill='tozeroy')) # fill down to xaxis\n",
    "fig.add_trace(go.Scatter(x=[1, 2, 3, 4], y=[3, 5, 1, 7], fill='tonexty')) # fill to trace0 y\n",
    "\n",
    "fig.show()\n"
   ]
  },
  {
   "cell_type": "markdown",
   "metadata": {},
   "source": [
    "### 无边界线的重叠面积图 Overlaid Area Chart Without Boundary Lines\n"
   ]
  },
  {
   "cell_type": "code",
   "execution_count": null,
   "metadata": {},
   "outputs": [],
   "source": [
    "import plotly.graph_objects as go\n",
    "\n",
    "fig = go.Figure()\n",
    "fig.add_trace(go.Scatter(x=[1, 2, 3, 4], y=[0, 2, 3, 5], fill='tozeroy',\n",
    "                    mode='none' # override default markers+lines\n",
    "                    ))\n",
    "fig.add_trace(go.Scatter(x=[1, 2, 3, 4], y=[3, 5, 1, 7], fill='tonexty',\n",
    "                    mode= 'none'))\n",
    "\n",
    "fig.show()\n"
   ]
  },
  {
   "cell_type": "markdown",
   "metadata": {},
   "source": [
    "### 面积图内部充填 Interior Filling for Area Chart\n"
   ]
  },
  {
   "cell_type": "code",
   "execution_count": null,
   "metadata": {},
   "outputs": [],
   "source": [
    "import plotly.graph_objects as go\n",
    "\n",
    "fig = go.Figure()\n",
    "fig.add_trace(go.Scatter(x=[1, 2, 3, 4], y=[3, 4, 8, 3],\n",
    "    fill=None,\n",
    "    mode='lines',\n",
    "    line_color='indigo',\n",
    "    ))\n",
    "fig.add_trace(go.Scatter(\n",
    "    x=[1, 2, 3, 4],\n",
    "    y=[1, 6, 2, 6],\n",
    "    fill='tonexty', # fill area between trace0 and trace1\n",
    "    mode='lines', line_color='indigo'))\n",
    "\n",
    "fig.show()\n"
   ]
  },
  {
   "cell_type": "markdown",
   "metadata": {},
   "source": [
    "### 堆叠面积图 Stacked Area Chart\n",
    "\n",
    "`stackgroup`参数用于添加同一组中不同轨道的`y`值。同一组中的轨道将一直填充到该组的下一个轨道。\n",
    "\n",
    "The `stackgroup` parameter is used to add the `y` values of the different traces in the same group. Traces in the same group fill up to the next trace of the group.\n"
   ]
  },
  {
   "cell_type": "code",
   "execution_count": null,
   "metadata": {},
   "outputs": [],
   "source": [
    "import plotly.graph_objects as go\n",
    "\n",
    "x=['Winter', 'Spring', 'Summer', 'Fall']\n",
    "\n",
    "fig = go.Figure()\n",
    "fig.add_trace(go.Scatter(\n",
    "    x=x, y=[40, 60, 40, 10],\n",
    "    hoverinfo='x+y',\n",
    "    mode='lines',\n",
    "    line=dict(width=0.5, color='rgb(131, 90, 241)'),\n",
    "    stackgroup='one' # define stack group\n",
    "))\n",
    "fig.add_trace(go.Scatter(\n",
    "    x=x, y=[20, 10, 10, 60],\n",
    "    hoverinfo='x+y',\n",
    "    mode='lines',\n",
    "    line=dict(width=0.5, color='rgb(111, 231, 219)'),\n",
    "    stackgroup='one'\n",
    "))\n",
    "fig.add_trace(go.Scatter(\n",
    "    x=x, y=[40, 30, 50, 30],\n",
    "    hoverinfo='x+y',\n",
    "    mode='lines',\n",
    "    line=dict(width=0.5, color='rgb(184, 247, 212)'),\n",
    "    stackgroup='one'\n",
    "))\n",
    "\n",
    "fig.update_layout(yaxis_range=(0, 100))\n",
    "fig.show()\n"
   ]
  },
  {
   "cell_type": "markdown",
   "metadata": {},
   "source": [
    "### 具有标准化值的堆叠面积图 Stacked Area Chart with Normalized Values\n"
   ]
  },
  {
   "cell_type": "code",
   "execution_count": null,
   "metadata": {},
   "outputs": [],
   "source": [
    "import plotly.graph_objects as go\n",
    "\n",
    "x=['Winter', 'Spring', 'Summer', 'Fall']\n",
    "fig = go.Figure()\n",
    "\n",
    "fig.add_trace(go.Scatter(\n",
    "    x=x, y=[40, 20, 30, 40],\n",
    "    mode='lines',\n",
    "    line=dict(width=0.5, color='rgb(184, 247, 212)'),\n",
    "    stackgroup='one',\n",
    "    groupnorm='percent' # sets the normalization for the sum of the stackgroup\n",
    "))\n",
    "fig.add_trace(go.Scatter(\n",
    "    x=x, y=[50, 70, 40, 60],\n",
    "    mode='lines',\n",
    "    line=dict(width=0.5, color='rgb(111, 231, 219)'),\n",
    "    stackgroup='one'\n",
    "))\n",
    "fig.add_trace(go.Scatter(\n",
    "    x=x, y=[70, 80, 60, 70],\n",
    "    mode='lines',\n",
    "    line=dict(width=0.5, color='rgb(127, 166, 238)'),\n",
    "    stackgroup='one'\n",
    "))\n",
    "fig.add_trace(go.Scatter(\n",
    "    x=x, y=[100, 100, 100, 100],\n",
    "    mode='lines',\n",
    "    line=dict(width=0.5, color='rgb(131, 90, 241)'),\n",
    "    stackgroup='one'\n",
    "))\n",
    "\n",
    "fig.update_layout(\n",
    "    showlegend=True,\n",
    "    xaxis_type='category',\n",
    "    yaxis=dict(\n",
    "        type='linear',\n",
    "        range=[1, 100],\n",
    "        ticksuffix='%'))\n",
    "\n",
    "fig.show()\n"
   ]
  },
  {
   "cell_type": "markdown",
   "metadata": {},
   "source": [
    "### 选择悬停点 Select Hover Points\n"
   ]
  },
  {
   "cell_type": "code",
   "execution_count": null,
   "metadata": {},
   "outputs": [],
   "source": [
    "import plotly.graph_objects as go\n",
    "\n",
    "fig = go.Figure()\n",
    "fig.add_trace(go.Scatter(x=[0,0.5,1,1.5,2], y=[0,1,2,1,0],\n",
    "                    fill='toself', fillcolor='darkviolet',\n",
    "                    hoveron = 'points+fills', # select where hover is active\n",
    "                    line_color='darkviolet',\n",
    "                    text=\"Points + Fills\",\n",
    "                    hoverinfo = 'text+x+y'))\n",
    "\n",
    "fig.add_trace(go.Scatter(x=[3,3.5,4,4.5,5], y=[0,1,2,1,0],\n",
    "                    fill='toself', fillcolor = 'violet',\n",
    "                    hoveron='points',\n",
    "                    line_color='violet',\n",
    "                    text=\"Points only\",\n",
    "                    hoverinfo='text+x+y'))\n",
    "\n",
    "fig.update_layout(\n",
    "    title = \"hover on <i>points</i> or <i>fill</i>\",\n",
    "    xaxis_range = [0,5.2],\n",
    "    yaxis_range = [0,3]\n",
    ")\n",
    "\n",
    "fig.show()\n"
   ]
  },
  {
   "cell_type": "markdown",
   "metadata": {},
   "source": [
    "## 引用 Reference\n",
    "\n",
    "有关更多信息和图表属性选项，请参阅<https://plotly.com/python/reference/scatter/#scatter-line>或<https://plotly.com/python/reference/scatter/#scatter-fill>。\n",
    "\n",
    "See <https://plotly.com/python/reference/scatter/#scatter-line> and <https://plotly.com/python/reference/scatter/#scatter-fill> for more information and attribute options!\n"
   ]
  }
 ],
 "metadata": {
  "interpreter": {
   "hash": "d62006d1f3422635846181a997a61e8ec3049f797e5d7dfe0cd1bb84092b7c19"
  },
  "kernelspec": {
   "display_name": "Python 3.9.6 64-bit",
   "language": "python",
   "name": "python3"
  },
  "language_info": {
   "codemirror_mode": {
    "name": "ipython",
    "version": 3
   },
   "file_extension": ".py",
   "mimetype": "text/x-python",
   "name": "python",
   "nbconvert_exporter": "python",
   "pygments_lexer": "ipython3",
   "version": "3.9.6"
  },
  "orig_nbformat": 4
 },
 "nbformat": 4,
 "nbformat_minor": 2
}
