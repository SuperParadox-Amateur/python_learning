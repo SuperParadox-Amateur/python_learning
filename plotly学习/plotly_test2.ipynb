{
 "cells": [
  {
   "cell_type": "markdown",
   "metadata": {},
   "source": [
    "# 折线图和散点图\n",
    "\n",
    "## 散点图\n",
    "\n",
    "使用`px.scatter`就可以绘制散点图，我们只需要提供`plotly`可接收`x`和`y`即可。\n"
   ]
  },
  {
   "cell_type": "code",
   "execution_count": null,
   "metadata": {},
   "outputs": [],
   "source": [
    "# 接收数组\n",
    "import plotly.express as px\n",
    "fig = px.scatter(\n",
    "    x = [0, 1, 2, 3, 4],\n",
    "    y = [0, 1, 4, 9, 16]\n",
    ")\n",
    "fig.show()"
   ]
  },
  {
   "cell_type": "code",
   "execution_count": null,
   "metadata": {},
   "outputs": [],
   "source": [
    "# 接收DataFrame\n",
    "import plotly.express as px\n",
    "df = px.data.iris()\n",
    "fig = px.scatter(\n",
    "    df,\n",
    "    x = \"sepal_width\",\n",
    "    y = \"sepal_length\"\n",
    ")\n",
    "fig.show()"
   ]
  },
  {
   "cell_type": "markdown",
   "metadata": {},
   "source": [
    "### 通过列名设定散点图的样式\n",
    "\n",
    "对于散点图里的点，我们有时需要其呈现更多的样式，例如散点图里的圆点变为不同大小的圆点就成了泡泡图。我们可以通过设定`color`和`size`来实现这个要求。此外，我们如果添加其他列的数据给`px.scatter`的`hover_data`参数，那么这些点在呈现悬浮信息时也会呈现我们添加给`hover_data`的信息。\n"
   ]
  },
  {
   "cell_type": "code",
   "execution_count": null,
   "metadata": {},
   "outputs": [],
   "source": [
    "import plotly.express as px\n",
    "df = px.data.iris()\n",
    "fig = px.scatter(\n",
    "    df, \n",
    "    x = \"sepal_width\",\n",
    "    y = \"sepal_length\", \n",
    "    color = \"species\", \n",
    "    size = \"petal_length\", \n",
    "    hover_data = [\"petal_width\"]\n",
    ")\n",
    "fig.show()"
   ]
  },
  {
   "cell_type": "markdown",
   "metadata": {},
   "source": [
    "颜色即可以如下那样是[连续颜色](https://plotly.com/python/colorscales/)，也可以如上那样是[分离/多样](https://plotly.com/python/discrete-color/)。\n"
   ]
  },
  {
   "cell_type": "code",
   "execution_count": null,
   "metadata": {},
   "outputs": [],
   "source": [
    "import plotly.express as px\n",
    "df = px.data.iris()\n",
    "fig = px.scatter(\n",
    "    df,\n",
    "    x = \"sepal_width\",\n",
    "    y = \"sepal_length\", \n",
    "    color = \"petal_length\"\n",
    ")\n",
    "fig.show()"
   ]
  },
  {
   "cell_type": "markdown",
   "metadata": {},
   "source": [
    "`symbol`参数也可以用来绘制一个列的数据。有众多种类的符号可供使用。"
   ]
  },
  {
   "cell_type": "code",
   "execution_count": null,
   "metadata": {},
   "outputs": [],
   "source": [
    "import plotly.express as px\n",
    "df = px.data.iris()\n",
    "fig = px.scatter(\n",
    "    df, \n",
    "    x = \"sepal_width\", \n",
    "    y = \"sepal_length\", \n",
    "    color = \"species\", \n",
    "    symbol = \"species\"\n",
    ")\n",
    "fig.show()"
   ]
  },
  {
   "cell_type": "markdown",
   "metadata": {},
   "source": [
    "### 散点图和多种坐标轴\n",
    "\n",
    "散点图可以使用多种的笛卡尔坐标轴，包括"
   ]
  },
  {
   "cell_type": "code",
   "execution_count": null,
   "metadata": {},
   "outputs": [],
   "source": []
  }
 ],
 "metadata": {
  "interpreter": {
   "hash": "d62006d1f3422635846181a997a61e8ec3049f797e5d7dfe0cd1bb84092b7c19"
  },
  "kernelspec": {
   "display_name": "Python 3.9.6 64-bit",
   "name": "python3"
  },
  "language_info": {
   "codemirror_mode": {
    "name": "ipython",
    "version": 3
   },
   "file_extension": ".py",
   "mimetype": "text/x-python",
   "name": "python",
   "nbconvert_exporter": "python",
   "pygments_lexer": "ipython3",
   "version": "3.9.6"
  },
  "orig_nbformat": 4
 },
 "nbformat": 4,
 "nbformat_minor": 2
}
