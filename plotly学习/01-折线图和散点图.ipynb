{
 "cells": [
  {
   "cell_type": "markdown",
   "metadata": {},
   "source": [
    "# 散点图 Scatter Plots\n",
    "\n",
    "如何用Plotly在Python中制作散点图。\n",
    "\n",
    "How to make scatter plots in Python with Plotly.\n",
    "\n",
    "## 使用Plotly Express绘制散点图 Scatter plots with Plotly Express\n",
    "\n",
    "对于`px.scatter`，每个数据点都表示为标记点，其位置由`x`和`y`列给出。\n",
    "\n",
    "With `px.scatter`, each data point is represented as a marker point, whose location is given by the `x` and `y` columns.\n"
   ]
  },
  {
   "cell_type": "code",
   "execution_count": null,
   "metadata": {},
   "outputs": [],
   "source": [
    "# 接收数组\n",
    "import plotly.express as px\n",
    "fig = px.scatter(\n",
    "    x = [0, 1, 2, 3, 4],\n",
    "    y = [0, 1, 4, 9, 16]\n",
    ")\n",
    "fig.show()"
   ]
  },
  {
   "cell_type": "code",
   "execution_count": null,
   "metadata": {},
   "outputs": [],
   "source": [
    "# x和y作为DataFrame列给出\n",
    "import plotly.express as px\n",
    "df = px.data.iris() # iris是一个pandas的DataFrame\n",
    "fig = px.scatter(\n",
    "    df,\n",
    "    x = \"sepal_width\",\n",
    "    y = \"sepal_length\"\n",
    ")\n",
    "fig.show()\n"
   ]
  },
  {
   "cell_type": "markdown",
   "metadata": {},
   "source": [
    "### 通过列名设置大小和颜色 Setting size and color with column names\n",
    "\n",
    "带有可变大小圆形标记的散点图通常称为气泡图。请注意，`color`和`size`数据将添加到悬停信息中。可以使用`px.scatter`的`hover_data`参数向悬停数据添加其他列。\n",
    "\n",
    "Scatter plots with variable-sized circular markers are often known as [bubble charts](https://plotly.com/python/bubble-charts/). Note that `color` and `size` data are added to hover information. You can add other columns to hover data with the `hover_data` argument of `px.scatter`.\n"
   ]
  },
  {
   "cell_type": "code",
   "execution_count": null,
   "metadata": {},
   "outputs": [],
   "source": [
    "import plotly.express as px\n",
    "df = px.data.iris()\n",
    "fig = px.scatter(df, x=\"sepal_width\", y=\"sepal_length\", color=\"species\",\n",
    "                 size='petal_length', hover_data=['petal_width'])\n",
    "fig.show()\n"
   ]
  },
  {
   "cell_type": "markdown",
   "metadata": {},
   "source": [
    "颜色可以是如下所示的[连续颜色](https://plotly.com/python/colorscales/)，也可以是如上所述的[离散/分类颜色](https://plotly.com/python/discrete-color/)。\n",
    "\n",
    "Color can be [continuous](https://plotly.com/python/colorscales/) as follows, or [discrete/categorical](https://plotly.com/python/discrete-color/) as above.\n"
   ]
  },
  {
   "cell_type": "code",
   "execution_count": null,
   "metadata": {},
   "outputs": [],
   "source": [
    "import plotly.express as px\n",
    "df = px.data.iris()\n",
    "fig = px.scatter(df, x=\"sepal_width\", y=\"sepal_length\", color='petal_length')\n",
    "fig.show()\n"
   ]
  },
  {
   "cell_type": "markdown",
   "metadata": {},
   "source": [
    "`symbol`参数也可以用来映射一个列的数据。有众多种类的符号可供使用。\n",
    "\n",
    "The `symbol` argument can be mapped to a column as well. A [wide variety of symbols](https://plotly.com/python/marker-style/) are available.\n"
   ]
  },
  {
   "cell_type": "code",
   "execution_count": null,
   "metadata": {},
   "outputs": [],
   "source": [
    "import plotly.express as px\n",
    "df = px.data.iris()\n",
    "fig = px.scatter(df, x=\"sepal_width\", y=\"sepal_length\", color=\"species\", symbol=\"species\")\n",
    "fig.show()\n"
   ]
  },
  {
   "cell_type": "markdown",
   "metadata": {},
   "source": [
    "\n",
    "### 散点图和分类轴 Scatter plots and Categorical Axes\n",
    "\n",
    "可以使用任何类型的笛卡尔轴（包括线性轴、对数轴、分类轴或日期轴）绘制散点图。\n",
    "\n",
    "Scatters plots can be made on using any type of cartesian axis, including [linear](https://plotly.com/python/axes/), [logarithmic](https://plotly.com/python/log-plot/), [categorical](https://plotly.com/python/categorical-axes/) or [date](https://plotly.com/python/time-series/) axes.\n",
    "\n",
    "一个轴为分类轴的散点图通常称为点图。\n",
    "\n",
    "Scatter plots where one axis is categorical are often known as [dot plots](https://plotly.com/python/dot-plots/).\n",
    "\n"
   ]
  },
  {
   "cell_type": "code",
   "execution_count": null,
   "metadata": {},
   "outputs": [],
   "source": [
    "import plotly.express as px\n",
    "df = px.data.medals_long()\n",
    "\n",
    "fig = px.scatter(df, y=\"nation\", x=\"count\", color=\"medal\", symbol=\"medal\")\n",
    "fig.update_traces(marker_size=10)\n",
    "fig.show()\n"
   ]
  },
  {
   "cell_type": "markdown",
   "metadata": {},
   "source": [
    "\n",
    "### 误差线 Error Bars\n",
    "\n",
    "散点图支持误差线。\n",
    "\n",
    "Scatter plots support [error bars](https://plotly.com/python/error-bars/).\n"
   ]
  },
  {
   "cell_type": "code",
   "execution_count": null,
   "metadata": {},
   "outputs": [],
   "source": [
    "import plotly.express as px\n",
    "df = px.data.iris()\n",
    "df[\"e\"] = df[\"sepal_width\"]/100\n",
    "fig = px.scatter(df, x=\"sepal_width\", y=\"sepal_length\", color=\"species\",\n",
    "                 error_x=\"e\", error_y=\"e\")\n",
    "fig.show()\n"
   ]
  },
  {
   "cell_type": "markdown",
   "metadata": {},
   "source": [
    "\n",
    "### 边缘分布图 Marginal Distribution Plots\n",
    "\n",
    "散点图支持边缘分布图。\n",
    "\n",
    "Scatter plots support [marginal distribution plots](https://plotly.com/python/marginal-plots/)\n"
   ]
  },
  {
   "cell_type": "code",
   "execution_count": null,
   "metadata": {},
   "outputs": [],
   "source": [
    "import plotly.express as px\n",
    "df = px.data.iris()\n",
    "fig = px.scatter(df, x=\"sepal_length\", y=\"sepal_width\", marginal_x=\"histogram\", marginal_y=\"rug\")\n",
    "fig.show()\n"
   ]
  },
  {
   "cell_type": "markdown",
   "metadata": {},
   "source": [
    "### 分面图 Facetting\n",
    "\n",
    "散点图支持分面图。\n",
    "\n",
    "Scatter plots support [faceting](https://plotly.com/python/facet-plots/).\n"
   ]
  },
  {
   "cell_type": "code",
   "execution_count": null,
   "metadata": {},
   "outputs": [],
   "source": [
    "import plotly.express as px\n",
    "df = px.data.tips()\n",
    "fig = px.scatter(df, x=\"total_bill\", y=\"tip\", color=\"smoker\", facet_col=\"sex\", facet_row=\"time\")\n",
    "fig.show()\n"
   ]
  },
  {
   "cell_type": "markdown",
   "metadata": {},
   "source": [
    "### 线性回归和其他趋势线 Linear Regression and Other Trendlines\n",
    "\n",
    "散点图支持线性和非线性趋势线。\n",
    "\n",
    "Scatter plots support [linear and non-linear trendlines](https://plotly.com/python/linear-fits/).\n"
   ]
  },
  {
   "cell_type": "code",
   "execution_count": null,
   "metadata": {},
   "outputs": [],
   "source": [
    "import plotly.express as px\n",
    "\n",
    "df = px.data.tips()\n",
    "fig = px.scatter(df, x=\"total_bill\", y=\"tip\", trendline=\"ols\")\n",
    "fig.show()\n"
   ]
  },
  {
   "cell_type": "markdown",
   "metadata": {},
   "source": [
    "## 使用Plotly Express绘制折线图 Line plots with Plotly Express\n"
   ]
  },
  {
   "cell_type": "code",
   "execution_count": null,
   "metadata": {},
   "outputs": [],
   "source": [
    "import plotly.express as px\n",
    "import numpy as np\n",
    "\n",
    "t = np.linspace(0, 2*np.pi, 100)\n",
    "\n",
    "fig = px.line(x=t, y=np.cos(t), labels={'x':'t', 'y':'cos(t)'})\n",
    "fig.show()\n"
   ]
  },
  {
   "cell_type": "code",
   "execution_count": null,
   "metadata": {},
   "outputs": [],
   "source": [
    "import plotly.express as px\n",
    "df = px.data.gapminder().query(\"continent == 'Oceania'\")\n",
    "fig = px.line(df, x='year', y='lifeExp', color='country')\n",
    "fig.show()\n"
   ]
  },
  {
   "cell_type": "markdown",
   "metadata": {},
   "source": [
    "将`markers`参数设定为`True`就可以在行上显示标记。\n",
    "\n",
    "The `markers` argument can be set to `True` to show markers on lines.\n"
   ]
  },
  {
   "cell_type": "code",
   "execution_count": null,
   "metadata": {},
   "outputs": [],
   "source": [
    "import plotly.express as px\n",
    "df = px.data.gapminder().query(\"continent == 'Oceania'\")\n",
    "fig = px.line(df, x='year', y='lifeExp', color='country', markers=True)\n",
    "fig.show()\n"
   ]
  },
  {
   "cell_type": "markdown",
   "metadata": {},
   "source": [
    "`symbol`参数也可以用来将数据字段映射到标记符号。有众多种类的符号可供使用。\n",
    "\n",
    "The `symbol` argument can be used to map a data field to the marker symbol. A [wide variety of symbols](https://plotly.com/python/marker-style/) are available.\n"
   ]
  },
  {
   "cell_type": "code",
   "execution_count": null,
   "metadata": {},
   "outputs": [],
   "source": [
    "import plotly.express as px\n",
    "df = px.data.gapminder().query(\"continent == 'Oceania'\")\n",
    "fig = px.line(df, x='year', y='lifeExp', color='country', symbol=\"country\")\n",
    "fig.show()\n"
   ]
  },
  {
   "cell_type": "markdown",
   "metadata": {},
   "source": [
    "### 在日期轴上绘制折线图 Line plots on Date axes\n",
    "\n",
    "可以使用任何类型的笛卡尔轴（包括线性轴、对数轴、分类轴或日期轴）绘制折线图。在日期轴上的折线图通常被称为时间序列图。\n",
    "\n",
    "Line plots can be made on using any type of cartesian axis, including [linear](https://plotly.com/python/axes/), [logarithmic](https://plotly.com/python/log-plot/), [categorical](https://plotly.com/python/categorical-axes/) or date axes. Line plots on date axes are often called [time-series charts](https://plotly.com/python/time-series/).\n",
    "\n",
    "当相应的数据是iso格式的日期字符串，或者是date pandas列或datetime NumPy数组时，Plotly自动将轴类型设置为日期格式。\n",
    "\n",
    "Plotly auto-sets the axis type to a date format when the corresponding data are either ISO-formatted date strings or if they're a [date pandas column](https://pandas.pydata.org/pandas-docs/stable/user_guide/timeseries.html) or [datetime NumPy array](https://docs.scipy.org/doc/numpy/reference/arrays.datetime.html).\n"
   ]
  },
  {
   "cell_type": "code",
   "execution_count": null,
   "metadata": {},
   "outputs": [],
   "source": [
    "import plotly.express as px\n",
    "\n",
    "df = px.data.stocks()\n",
    "fig = px.line(df, x='date', y=\"GOOG\")\n",
    "fig.show()\n"
   ]
  },
  {
   "cell_type": "markdown",
   "metadata": {},
   "source": [
    "### 散点图和折线图中的数据顺序 Data Order in Scatter and Line Charts\n",
    "\n",
    "Plotly折线图以连接散点图（见下文）的形式实现，这意味着点是**按照提供的顺序绘制和连接的，不会自动重新排序**。\n",
    "\n",
    "Plotly line charts are implemented as [connected scatterplots](https://www.data-to-viz.com/graph/connectedscatter.html) (see below), meaning that the points are plotted and connected with lines **in the order they are provided, with no automatic reordering**.\n",
    "\n",
    "这使得可以制作如下图所示的图表，但也意味着在将数据传递给Plotly之前，可能需要显式地对数据进行排序，以避免线在图表上“向后”移动。\n",
    "\n",
    "This makes it possible to make charts like the one below, but also means that it may be required to explicitly sort data before passing it to Plotly to avoid lines moving \"backwards\" across the chart.\n"
   ]
  },
  {
   "cell_type": "code",
   "execution_count": null,
   "metadata": {},
   "outputs": [],
   "source": [
    "import plotly.express as px\n",
    "import pandas as pd\n",
    "\n",
    "df = pd.DataFrame(dict(\n",
    "    x = [1, 3, 2, 4],\n",
    "    y = [1, 2, 3, 4]\n",
    "))\n",
    "fig = px.line(df, x=\"x\", y=\"y\", title=\"Unsorted Input\") \n",
    "fig.show()\n",
    "\n",
    "df = df.sort_values(by=\"x\")\n",
    "fig = px.line(df, x=\"x\", y=\"y\", title=\"Sorted Input\") \n",
    "fig.show()\n"
   ]
  },
  {
   "cell_type": "markdown",
   "metadata": {},
   "source": [
    "### 连通散点图 Connected Scatterplots\n",
    "\n",
    "在连通散点图中，两个连续变量被绘制在一起，用一条线将它们按某种有意义的顺序连接起来，通常是时间变量。在下面的图表中，我们展示了两个国家在一个由人均GDP和预期寿命定义的空间中的“轨迹”。\n",
    "\n",
    "In a connected scatterplot, two continuous variables are plotted against each other, with a line connecting them in some meaningful order, usually a time variable. In the plot below, we show the \"trajectory\" of a pair of countries through a space defined by GDP per Capita and Life Expectancy.\n"
   ]
  },
  {
   "cell_type": "code",
   "execution_count": null,
   "metadata": {},
   "outputs": [],
   "source": [
    "import plotly.express as px\n",
    "\n",
    "df = px.data.gapminder().query(\"country in ['Canada', 'Botswana']\")\n",
    "\n",
    "fig = px.line(df, x=\"lifeExp\", y=\"gdpPercap\", color=\"country\", text=\"year\")\n",
    "fig.update_traces(textposition=\"bottom right\")\n",
    "fig.show()\n"
   ]
  },
  {
   "cell_type": "markdown",
   "metadata": {},
   "source": [
    "## 使用go.Scatter进行散点图和折线图的绘制 Scatter and line plots with go.Scatter\n",
    "\n",
    "如果Plotly Express不能提供一个良好的起点，可以使用`plotly.graph_objects`中更通用的`go.Scatter`类。尽管`plotly.express`有`scatter`和`line`两个函数，然而`go.Scatter`是用来绘制点（标记）还是线则取决与`mode`参数的值。对于`go.Scatter`的不同选项则记录在参考页中。\n",
    "\n",
    "If Plotly Express does not provide a good starting point, it is possible to use [the more generic `go.Scatter` class from `plotly.graph_objects`](/python/graph-objects/). Whereas `plotly.express` has two functions `scatter` and `line`, `go.Scatter` can be used both for plotting points (makers) or lines, depending on the value of `mode`. The different options of `go.Scatter` are documented in its [reference page](https://plotly.com/python/reference/scatter/).\n",
    "\n",
    "### 简单散点图 Simple Scatter Plot\n"
   ]
  },
  {
   "cell_type": "code",
   "execution_count": null,
   "metadata": {},
   "outputs": [],
   "source": [
    "import plotly.graph_objects as go\n",
    "import numpy as np\n",
    "\n",
    "N = 1000\n",
    "t = np.linspace(0, 10, 100)\n",
    "y = np.sin(t)\n",
    "\n",
    "fig = go.Figure(data=go.Scatter(x=t, y=y, mode='markers'))\n",
    "\n",
    "fig.show()\n"
   ]
  },
  {
   "cell_type": "markdown",
   "metadata": {},
   "source": [
    "#### 折线和散点图 Line and Scatter Plots\n",
    "\n",
    "使用`mode`参数在标记和线之间进行选择，或者两者兼有。对于折线图的更多选项可见[line charts notebook](https://plotly.com/python/line-charts/)和[filled area plots notebook](https://plotly.com/python/filled-area-plots/)。\n",
    "\n",
    "Use `mode` argument to choose between markers, lines, or a combination of both. For more options about line plots, see also the [line charts notebook](https://plotly.com/python/line-charts/) and the [filled area plots notebook](https://plotly.com/python/filled-area-plots/).\n"
   ]
  },
  {
   "cell_type": "code",
   "execution_count": null,
   "metadata": {},
   "outputs": [],
   "source": [
    "import plotly.graph_objects as go\n",
    "\n",
    "# 使用numpy创造随机数据\n",
    "import numpy as np\n",
    "np.random.seed(1)\n",
    "\n",
    "N = 100\n",
    "random_x = np.linspace(0, 1, N)\n",
    "random_y0 = np.random.randn(N) + 5\n",
    "random_y1 = np.random.randn(N)\n",
    "random_y2 = np.random.randn(N) - 5\n",
    "\n",
    "fig = go.Figure()\n",
    "\n",
    "# 添加轨迹\n",
    "fig.add_trace(go.Scatter(x=random_x, y=random_y0,\n",
    "                    mode='markers',\n",
    "                    name='markers'))\n",
    "fig.add_trace(go.Scatter(x=random_x, y=random_y1,\n",
    "                    mode='lines+markers',\n",
    "                    name='lines+markers'))\n",
    "fig.add_trace(go.Scatter(x=random_x, y=random_y2,\n",
    "                    mode='lines',\n",
    "                    name='lines'))\n",
    "\n",
    "fig.show()\n"
   ]
  },
  {
   "cell_type": "markdown",
   "metadata": {},
   "source": [
    "#### 气泡散点图 Bubble Scatter Plots\n",
    "\n",
    "在气泡图中，数据的第三个维度是通过标记的大小来显示的。更多的例子，请参阅[bubble chart notebook](https://plotly.com/python/bubble-charts/)。\n",
    "\n",
    "In [bubble charts](https://en.wikipedia.org/wiki/Bubble_chart), a third dimension of the data is shown through the size of markers. For more examples, see the [bubble chart notebook](https://plotly.com/python/bubble-charts/)\n"
   ]
  },
  {
   "cell_type": "code",
   "execution_count": null,
   "metadata": {},
   "outputs": [],
   "source": [
    "import plotly.graph_objects as go\n",
    "\n",
    "fig = go.Figure(data=go.Scatter(\n",
    "    x=[1, 2, 3, 4],\n",
    "    y=[10, 11, 12, 13],\n",
    "    mode='markers',\n",
    "    marker=dict(size=[40, 60, 80, 100],\n",
    "                color=[0, 1, 2, 3])\n",
    "))\n",
    "\n",
    "fig.show()\n"
   ]
  },
  {
   "cell_type": "markdown",
   "metadata": {},
   "source": [
    "#### 设定散点图风格 Style Scatter Plots\n"
   ]
  },
  {
   "cell_type": "code",
   "execution_count": null,
   "metadata": {},
   "outputs": [],
   "source": [
    "import plotly.graph_objects as go\n",
    "import numpy as np\n",
    "\n",
    "\n",
    "t = np.linspace(0, 10, 100)\n",
    "\n",
    "fig = go.Figure()\n",
    "\n",
    "fig.add_trace(go.Scatter(\n",
    "    x=t, y=np.sin(t),\n",
    "    name='sin',\n",
    "    mode='markers',\n",
    "    marker_color='rgba(152, 0, 0, .8)'\n",
    "))\n",
    "\n",
    "fig.add_trace(go.Scatter(\n",
    "    x=t, y=np.cos(t),\n",
    "    name='cos',\n",
    "    marker_color='rgba(255, 182, 193, .9)'\n",
    "))\n",
    "\n",
    "# Set options common to all traces with fig.update_traces\n",
    "fig.update_traces(mode='markers', marker_line_width=2, marker_size=10)\n",
    "fig.update_layout(title='Styled Scatter',\n",
    "                  yaxis_zeroline=False, xaxis_zeroline=False)\n",
    "\n",
    "\n",
    "fig.show()\n"
   ]
  },
  {
   "cell_type": "markdown",
   "metadata": {},
   "source": [
    "#### 悬停时的数据标签 Data Labels on Hover\n"
   ]
  },
  {
   "cell_type": "code",
   "execution_count": null,
   "metadata": {},
   "outputs": [],
   "source": [
    "import plotly.graph_objects as go\n",
    "import pandas as pd\n",
    "\n",
    "data= pd.read_csv(\"https://raw.githubusercontent.com/plotly/datasets/master/2014_usa_states.csv\")\n",
    "\n",
    "fig = go.Figure(data=go.Scatter(x=data['Postal'],\n",
    "                                y=data['Population'],\n",
    "                                mode='markers',\n",
    "                                marker_color=data['Population'],\n",
    "                                text=data['State'])) # hover text goes here\n",
    "\n",
    "fig.update_layout(title='Population of USA States')\n",
    "fig.show()\n"
   ]
  },
  {
   "cell_type": "markdown",
   "metadata": {},
   "source": [
    "#### 带颜色维度的散点 Scatter with a Color Dimension\n"
   ]
  },
  {
   "cell_type": "code",
   "execution_count": null,
   "metadata": {},
   "outputs": [],
   "source": [
    "import plotly.graph_objects as go\n",
    "import numpy as np\n",
    "\n",
    "fig = go.Figure(data=go.Scatter(\n",
    "    y = np.random.randn(500),\n",
    "    mode='markers',\n",
    "    marker=dict(\n",
    "        size=16,\n",
    "        color=np.random.randn(500), #set color equal to a variable\n",
    "        colorscale='Viridis', # one of plotly colorscales\n",
    "        showscale=True\n",
    "    )\n",
    "))\n",
    "\n",
    "fig.show()\n"
   ]
  },
  {
   "cell_type": "markdown",
   "metadata": {},
   "source": [
    "#### 大数据集 Large Data Sets\n",
    "\n",
    "在现在的Plotly中，你可以通过用`Scattergl()`替代`Scatter()`来调用webGL，这样就可以获得速度提升、交互性增强和绘制更多数据的能力！\n",
    "\n",
    "Now in Plotly you can implement WebGL with `Scattergl()` in place of `Scatter()` for increased speed, improved interactivity, and the ability to plot even more data!\n"
   ]
  },
  {
   "cell_type": "code",
   "execution_count": null,
   "metadata": {},
   "outputs": [],
   "source": [
    "import plotly.graph_objects as go\n",
    "import numpy as np\n",
    "\n",
    "N = 100000\n",
    "fig = go.Figure(data=go.Scattergl(\n",
    "    x = np.random.randn(N),\n",
    "    y = np.random.randn(N),\n",
    "    mode='markers',\n",
    "    marker=dict(\n",
    "        color=np.random.randn(N),\n",
    "        colorscale='Viridis',\n",
    "        line_width=1\n",
    "    )\n",
    "))\n",
    "\n",
    "fig.show()\n"
   ]
  },
  {
   "cell_type": "code",
   "execution_count": null,
   "metadata": {},
   "outputs": [],
   "source": [
    "import plotly.graph_objects as go\n",
    "import numpy as np\n",
    "\n",
    "N = 100000\n",
    "r = np.random.uniform(0, 1, N)\n",
    "theta = np.random.uniform(0, 2*np.pi, N)\n",
    "\n",
    "fig = go.Figure(data=go.Scattergl(\n",
    "    x = r * np.cos(theta), # non-uniform distribution\n",
    "    y = r * np.sin(theta), # zoom to see more points at the center\n",
    "    mode='markers',\n",
    "    marker=dict(\n",
    "        color=np.random.randn(N),\n",
    "        colorscale='Viridis',\n",
    "        line_width=1\n",
    "    )\n",
    "))\n",
    "\n",
    "fig.show()\n"
   ]
  },
  {
   "cell_type": "markdown",
   "metadata": {},
   "source": [
    "### 引用 Reference\n",
    "\n",
    "有关更多信息和图表属性选项，请参阅[function reference for `px.scatter()`](https://plotly.com/python-api-reference/generated/plotly.express.scatter)或<https://plotly.com/python/reference/scatter/>或<https://plotly.com/python/reference/scattergl/>。\n",
    "\n",
    "See [function reference for `px.scatter()`](https://plotly.com/python-api-reference/generated/plotly.express.scatter) or <https://plotly.com/python/reference/scatter/> or <https://plotly.com/python/reference/scattergl/> for more information and chart attribute options!\n"
   ]
  }
 ],
 "metadata": {
  "interpreter": {
   "hash": "d62006d1f3422635846181a997a61e8ec3049f797e5d7dfe0cd1bb84092b7c19"
  },
  "kernelspec": {
   "display_name": "Python 3.9.6 64-bit",
   "language": "python",
   "name": "python3"
  },
  "language_info": {
   "codemirror_mode": {
    "name": "ipython",
    "version": 3
   },
   "file_extension": ".py",
   "mimetype": "text/x-python",
   "name": "python",
   "nbconvert_exporter": "python",
   "pygments_lexer": "ipython3",
   "version": "3.9.6"
  },
  "orig_nbformat": 4
 },
 "nbformat": 4,
 "nbformat_minor": 2
}
