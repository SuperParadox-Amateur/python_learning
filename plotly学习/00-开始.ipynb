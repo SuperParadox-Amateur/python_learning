{
 "cells": [
  {
   "cell_type": "markdown",
   "metadata": {},
   "source": [
    "# 开始\n",
    "\n",
    "## `plotly`介绍\n",
    "\n",
    "`plotly`的python库的特点：\n",
    "\n",
    "- 交互\n",
    "- 开源\n",
    "- 支持40多种图表（统计类、经济类、地理类、科研类和3D类等）\n",
    "\n",
    "基于`plotly`的JavaScript库（`plotly.js`），python用户可以创建出美观的可交互的网络可视化，可以让它在Jupyter notebook中呈现，也可以保存为单独的HTML文件，或者通过Dash成为网络应用的一部分。`plotly`的python库一般被称为`plotly.py`，用于和`plotly.js`进行区分。\n",
    "\n",
    "配合Kaleido可以更好地支持PyCharm之类的编辑器和IDE，还可以导出高质量的静态文件。\n",
    "\n",
    "## 安装\n",
    "\n",
    "可以通过`pip`安装：\n",
    "\n",
    "```shell\n",
    "pip install plotly\n",
    "```\n",
    "\n",
    "或者`conda`：\n",
    "\n",
    "```shell\n",
    "conda install plotly\n",
    "```\n",
    "\n",
    "> 从版本4开始，`plotly`就不再区分“在线”和“离线”模式了，默认只使用“离线”模式。`chart-studio`包为可选内容。\n",
    "\n",
    "## 需要讲解的内容\n",
    "\n",
    "- Plotly Express和Plotly Graph_objects异同\n",
    "- 在Jupyter notebook中的使用\n",
    "- 在VS Code中的使用\n",
    "- 接受的数据类型\n",
    "- Plotly界面的使用\n",
    "- 对于线性回归的计算则要安装`statsmodel`模块\n"
   ]
  }
 ],
 "metadata": {
  "language_info": {
   "name": "python"
  },
  "orig_nbformat": 4
 },
 "nbformat": 4,
 "nbformat_minor": 2
}
