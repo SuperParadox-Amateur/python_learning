{
 "cells": [
  {
   "cell_type": "code",
   "execution_count": null,
   "metadata": {},
   "outputs": [],
   "source": [
    "import pandas as pd\n",
    "import numpy as np\n",
    "import datetime\n",
    "import plotly.graph_objects as go\n",
    "from plotly.subplots import make_subplots"
   ]
  },
  {
   "cell_type": "code",
   "execution_count": null,
   "metadata": {},
   "outputs": [],
   "source": [
    "f_path = \"C:/Users/Dell/Documents/data/FQ304大修人员剂量明细.xlsx\""
   ]
  },
  {
   "cell_type": "code",
   "execution_count": null,
   "metadata": {},
   "outputs": [],
   "source": [
    "# 确定数据源和数据类型\n",
    "data = pd.read_excel(\n",
    "    f_path,\n",
    "    sheet_name=\"数据源\",\n",
    "    usecols=[\n",
    "        \"人员编号\",\n",
    "        \"姓名\",\n",
    "        \"单位\",\n",
    "        \"处室\",\n",
    "        \"机组\",\n",
    "        \"进入区域\",\n",
    "        \"进入时间\",\n",
    "        \"离开时间\",\n",
    "        \"持续时间(h)\",\n",
    "        \"EPD-γ剂量(mSv)\"\n",
    "    ],\n",
    "    dtype={\n",
    "        \"人员编号\": str,\n",
    "        \"进入时间\": \"datetime64\",\n",
    "        \"离开时间\": \"datetime64\"\n",
    "    }\n",
    ")"
   ]
  },
  {
   "cell_type": "code",
   "execution_count": null,
   "metadata": {},
   "outputs": [],
   "source": [
    "data.head()"
   ]
  },
  {
   "cell_type": "code",
   "execution_count": null,
   "metadata": {},
   "outputs": [],
   "source": [
    "# 设置要筛选的数据源的日期范围\n",
    "# 设定起止日期时间\n",
    "# 实际结束时间为2021/9/19 11:46\n",
    "first_datetime = pd.to_datetime(\"2021/8/22 8:00\")\n",
    "last_datetime = pd.to_datetime(\"2021/9/20 00:00\")\n",
    "# 设置若在日期范围内，则以昨天为范围的终止日期，否则以截止日期范围的终止日期\n",
    "now = datetime.datetime.now()\n",
    "if now <= last_datetime:\n",
    "    end_datetime = now - datetime.timedelta\\\n",
    "        (hours=now.hour, minutes=now.minute, seconds=now.second)\n",
    "else:\n",
    "    end_datetime = last_datetime\n",
    "\n",
    "start_datetime = end_datetime - datetime.timedelta(days = 1)"
   ]
  },
  {
   "cell_type": "code",
   "execution_count": null,
   "metadata": {},
   "outputs": [],
   "source": [
    "data.columns"
   ]
  },
  {
   "cell_type": "code",
   "execution_count": null,
   "metadata": {},
   "outputs": [],
   "source": [
    "data.dtypes"
   ]
  },
  {
   "cell_type": "code",
   "execution_count": null,
   "metadata": {},
   "outputs": [],
   "source": [
    "# 筛选日期范围内的数据\n",
    "queried_data = data.query(\"离开时间 >= @first_datetime and 离开时间 <= @end_datetime\")\n",
    "queried_data.head()"
   ]
  },
  {
   "cell_type": "code",
   "execution_count": null,
   "metadata": {},
   "outputs": [],
   "source": [
    "queried_data.info()"
   ]
  },
  {
   "cell_type": "code",
   "execution_count": null,
   "metadata": {},
   "outputs": [],
   "source": [
    "# 透视汇总筛选的数据，以离开时间、人员编号、姓名、处室、单位为索引\n",
    "# 统计每日每人的累计剂量、人次和工作时间\n",
    "person_total_dose = pd.pivot_table(\n",
    "    queried_data,\n",
    "    # values=[\"EPD-γ剂量(mSv)\", \"人员编号\", \"持续时间(h)\"],\n",
    "    index=[\n",
    "        # 将离开时间以日为单位分组\n",
    "        pd.Grouper(key=\"离开时间\", freq=\"D\"),\n",
    "        \"人员编号\",\n",
    "        \"姓名\",\n",
    "        \"处室\",\n",
    "        \"单位\"\n",
    "    ],\n",
    "    aggfunc={\n",
    "        \"EPD-γ剂量(mSv)\": np.sum,\n",
    "        \"人员编号\": np.count_nonzero,\n",
    "        \"持续时间(h)\": np.sum\n",
    "    },\n",
    "    # margins=True, margins_name=\"总计\"\n",
    ")\\\n",
    "    # .stack(0).reset_index(0)\n",
    "person_total_dose.head(10)"
   ]
  },
  {
   "cell_type": "code",
   "execution_count": null,
   "metadata": {},
   "outputs": [],
   "source": [
    "# 将每天的人员数据按照剂量降序排序\n",
    "person_total_dose.sort_values(by = \"EPD-γ剂量(mSv)\", ascending=False)\\\n",
    "    .sort_index(level = 0, sort_remaining=False)"
   ]
  },
  {
   "cell_type": "code",
   "execution_count": null,
   "metadata": {},
   "outputs": [],
   "source": [
    "# 选择某一天的第50名的信息\n",
    "person_total_dose.loc[(\"2021-08-22\",slice(None)),:].iloc[49,:]\\\n",
    "# .name[4]"
   ]
  },
  {
   "cell_type": "code",
   "execution_count": null,
   "metadata": {},
   "outputs": [],
   "source": [
    "# 统计每日的累计剂量、人次和工作时间\n",
    "day_total_data = queried_data.groupby(\n",
    "    pd.Grouper(key=\"离开时间\", freq=\"D\"),\n",
    ").agg(\n",
    "    {\"EPD-γ剂量(mSv)\": np.sum,\n",
    "    \"人员编号\": np.count_nonzero,\n",
    "    \"持续时间(h)\": np.sum\n",
    "}\n",
    ")\n",
    "day_total_data"
   ]
  },
  {
   "cell_type": "code",
   "execution_count": null,
   "metadata": {},
   "outputs": [],
   "source": [
    "# 每日剂量累加\n",
    "day_total_dose = day_total_data[\"EPD-γ剂量(mSv)\"].cumsum()\n",
    "day_total_dose"
   ]
  },
  {
   "cell_type": "code",
   "execution_count": null,
   "metadata": {},
   "outputs": [],
   "source": [
    "fig1 = make_subplots(specs=[[{\"secondary_y\": True}]])\n",
    "fig1.add_trace(\n",
    "    go.Bar(\n",
    "        x = day_total_data.index,\n",
    "        y = day_total_data[\"EPD-γ剂量(mSv)\"],\n",
    "        name = \"每日剂量\"\n",
    "    ),\n",
    "    secondary_y=False\n",
    ")\n",
    "\n",
    "fig1.add_trace(\n",
    "    go.Scatter(\n",
    "        x = day_total_dose.index,\n",
    "        y = day_total_dose,\n",
    "        name = \"累计剂量\"\n",
    "    ),\n",
    "    secondary_y=True\n",
    ")\n",
    "\n",
    "fig1.update_layout(\n",
    "    title_text = \"每日剂量和累计剂量\"\n",
    ")\n",
    "\n",
    "fig1.update_xaxes(\n",
    "    tickformat = \"%d日\\n%Y年%m月\"\n",
    ")\n",
    "\n",
    "fig1.update_yaxes(\n",
    "    title_text = \"每日剂量(mSv)\", secondary_y=False\n",
    ")\n",
    "fig1.update_yaxes(\n",
    "    title_text = \"累计剂量(mSv)\", secondary_y=True\n",
    ")"
   ]
  },
  {
   "cell_type": "code",
   "execution_count": null,
   "metadata": {},
   "outputs": [],
   "source": [
    "# 每日人次累加\n",
    "day_total_person = day_total_data[\"人员编号\"].cumsum()\n",
    "day_total_person"
   ]
  },
  {
   "cell_type": "code",
   "execution_count": null,
   "metadata": {},
   "outputs": [],
   "source": [
    "fig2 = make_subplots(specs=[[{\"secondary_y\": True}]])\n",
    "fig2.add_trace(\n",
    "    go.Bar(\n",
    "        x = day_total_data.index,\n",
    "        y = day_total_data[\"人员编号\"],\n",
    "        name = \"每日人次\"\n",
    "    ),\n",
    "    secondary_y=False\n",
    ")\n",
    "\n",
    "fig2.add_trace(\n",
    "    go.Scatter(\n",
    "        x = day_total_person.index,\n",
    "        y = day_total_person,\n",
    "        name = \"累计人次\"\n",
    "    ),\n",
    "    secondary_y=True\n",
    ")\n",
    "\n",
    "fig2.update_layout(\n",
    "    title_text = \"每日人次和累计人次\"\n",
    ")\n",
    "\n",
    "fig2.update_xaxes(\n",
    "    tickformat = \"%d日\\n%Y年%m月\"\n",
    ")\n",
    "\n",
    "fig2.update_yaxes(\n",
    "    title_text = \"每日人次\", secondary_y=False\n",
    ")\n",
    "fig2.update_yaxes(\n",
    "    title_text = \"累计人次\", secondary_y=True\n",
    ")"
   ]
  }
 ],
 "metadata": {
  "interpreter": {
   "hash": "d62006d1f3422635846181a997a61e8ec3049f797e5d7dfe0cd1bb84092b7c19"
  },
  "kernelspec": {
   "display_name": "Python 3.9.6 64-bit",
   "language": "python",
   "name": "python3"
  },
  "language_info": {
   "codemirror_mode": {
    "name": "ipython",
    "version": 3
   },
   "file_extension": ".py",
   "mimetype": "text/x-python",
   "name": "python",
   "nbconvert_exporter": "python",
   "pygments_lexer": "ipython3",
   "version": "3.9.6"
  },
  "orig_nbformat": 4
 },
 "nbformat": 4,
 "nbformat_minor": 2
}
