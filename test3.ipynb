{
 "cells": [
  {
   "cell_type": "code",
   "execution_count": null,
   "metadata": {},
   "outputs": [],
   "source": [
    "import pandas as pd\n",
    "import numpy as np"
   ]
  },
  {
   "cell_type": "code",
   "execution_count": null,
   "metadata": {},
   "outputs": [],
   "source": [
    "f_path = \"C:/Users/Dell/Documents/FQ304大修人员剂量明细.xlsx\"\n",
    "\n",
    "data = pd.read_excel(\n",
    "    f_path,\n",
    "    sheet_name=\"数据源\",\n",
    "    dtype={\n",
    "        \"人员编号\": str\n",
    "    },\n",
    "    usecols=[0, 1, 2, 4, 5, 6, 7, 8, 9]\n",
    "    # usecols=[\n",
    "    #     \"姓名\",\n",
    "    #     \"人员编号\",\n",
    "    #     \"单位\",\n",
    "    #     \"处室\",\n",
    "    #     \"机组\",\n",
    "    #     \"进入区域\",\n",
    "    #     \"进入时间\",\n",
    "    #     \"离开时间\",\n",
    "    #     \"持续时间(h)\",\n",
    "    #     \"EPD-γ剂量(mSv)\"\n",
    "    # ]\n",
    ")\n",
    "\n",
    "data[\"人员编号\"] = data[\"人员编号\"].astype(str)\n",
    "# data[\"RWP号\"] = data[\"RWP号\"].astype(str)\n",
    "data[\"离开日期\"] = data[\"离开时间\"].dt.date\n",
    "# data.sort_values(by = \"离开时间\")"
   ]
  },
  {
   "cell_type": "code",
   "execution_count": null,
   "metadata": {},
   "outputs": [],
   "source": [
    "data.head()"
   ]
  },
  {
   "cell_type": "code",
   "execution_count": null,
   "metadata": {},
   "outputs": [],
   "source": [
    "data.columns"
   ]
  },
  {
   "cell_type": "code",
   "execution_count": null,
   "metadata": {},
   "outputs": [],
   "source": [
    "data.dtypes"
   ]
  },
  {
   "cell_type": "code",
   "execution_count": null,
   "metadata": {},
   "outputs": [],
   "source": [
    "day_dose = pd.pivot_table(\n",
    "    data = data,\n",
    "    values=[\"EPD-γ剂量(mSv)\", \"人员编号\"],\n",
    "    index=[\"离开日期\"],\n",
    "    aggfunc={\n",
    "        \"EPD-γ剂量(mSv)\": np.sum,\n",
    "        \"人员编号\": np.count_nonzero\n",
    "    },\n",
    "    margins=True\n",
    ")"
   ]
  },
  {
   "cell_type": "code",
   "execution_count": null,
   "metadata": {},
   "outputs": [],
   "source": [
    "# 输出每日剂量总和和每日人次\n",
    "day_dose"
   ]
  },
  {
   "cell_type": "code",
   "execution_count": null,
   "metadata": {},
   "outputs": [],
   "source": [
    "first_date = data[\"离开日期\"].min()\n",
    "last_date = data[\"离开日期\"].max()\n",
    "day_dose.loc[first_date : last_date][\"人员编号\"]"
   ]
  },
  {
   "cell_type": "code",
   "execution_count": null,
   "metadata": {},
   "outputs": [],
   "source": [
    "day_dose.loc[\"All\":, :]"
   ]
  }
 ],
 "metadata": {
  "interpreter": {
   "hash": "d62006d1f3422635846181a997a61e8ec3049f797e5d7dfe0cd1bb84092b7c19"
  },
  "kernelspec": {
   "display_name": "Python 3.9.6 64-bit",
   "language": "python",
   "name": "python3"
  },
  "language_info": {
   "codemirror_mode": {
    "name": "ipython",
    "version": 3
   },
   "file_extension": ".py",
   "mimetype": "text/x-python",
   "name": "python",
   "nbconvert_exporter": "python",
   "pygments_lexer": "ipython3",
   "version": "3.9.6"
  },
  "orig_nbformat": 4
 },
 "nbformat": 4,
 "nbformat_minor": 2
}
