{
 "cells": [
  {
   "cell_type": "markdown",
   "source": [
    "# 开始\r\n",
    "\r\n",
    "## `plotly`介绍\r\n",
    "\r\n",
    "`plotly`的python库的特点：\r\n",
    "\r\n",
    "- 交互\r\n",
    "- 开源\r\n",
    "- 支持40多种图表（统计类、经济类、地理类、科研类和3D类等）\r\n",
    "\r\n",
    "基于`plotly`的JavaScript库（`plotly.js`），python用户可以创建出美观的可交互的网络可视化，可以让它在Jupyter notebook中呈现，也可以保存为单独的HTML文件，或者通过Dash成为网络应用的一部分。`plotly`的python库一般被称为`plotly.py`，用于和`plotly.js`进行区分。\r\n",
    "\r\n",
    "配合Kaleido可以更好地支持PyCharm之类的编辑器和IDE，还可以导出高质量的静态文件。\r\n",
    "\r\n",
    "## 安装\r\n",
    "\r\n",
    "可以通过`pip`安装：\r\n",
    "\r\n",
    "```shell\r\n",
    "pip install plotly\r\n",
    "```\r\n",
    "\r\n",
    "或者`conda`：\r\n",
    "\r\n",
    "```shell\r\n",
    "conda install plotly\r\n",
    "```\r\n",
    "\r\n",
    "> 从版本4开始，`plotly`就不再区分“在线”和“离线”模式了，默认只使用“离线”模式。`chart-studio`包为可选内容。\r\n"
   ],
   "metadata": {}
  },
  {
   "cell_type": "markdown",
   "source": [
    "## 需要讲解的内容\r\n",
    "\r\n",
    "- Plotly Express和Plotly Graph_objects异同\r\n",
    "- 在Jupyter notebook中的使用\r\n",
    "- 在VS Code中的使用\r\n",
    "- 接受的数据类型\r\n",
    "- Plotly界面的使用\r\n"
   ],
   "metadata": {}
  }
 ],
 "metadata": {
  "orig_nbformat": 4,
  "language_info": {
   "name": "python",
   "version": "3.9.6",
   "mimetype": "text/x-python",
   "codemirror_mode": {
    "name": "ipython",
    "version": 3
   },
   "pygments_lexer": "ipython3",
   "nbconvert_exporter": "python",
   "file_extension": ".py"
  },
  "kernelspec": {
   "name": "python3",
   "display_name": "Python 3.9.6 64-bit"
  },
  "interpreter": {
   "hash": "d62006d1f3422635846181a997a61e8ec3049f797e5d7dfe0cd1bb84092b7c19"
  }
 },
 "nbformat": 4,
 "nbformat_minor": 2
}