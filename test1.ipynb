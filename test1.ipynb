{
 "cells": [
  {
   "cell_type": "code",
   "execution_count": null,
   "metadata": {},
   "outputs": [],
   "source": [
    "import numpy as np\n",
    "import pandas as pd"
   ]
  },
  {
   "cell_type": "code",
   "execution_count": null,
   "metadata": {},
   "outputs": [],
   "source": [
    "f_path = \"C:/Users/Dell/Documents/FQ304大修人员剂量明细.xlsx\""
   ]
  },
  {
   "cell_type": "code",
   "execution_count": null,
   "metadata": {},
   "outputs": [],
   "source": [
    "data = pd.read_excel(\n",
    "    f_path,\n",
    "    sheet_name=\"数据源\",\n",
    "    usecols=[\n",
    "        \"人员编号\",\n",
    "        \"姓名\",\n",
    "        \"单位\",\n",
    "        \"处室\",\n",
    "        \"机组\",\n",
    "        \"进入区域\",\n",
    "        \"进入时间\",\n",
    "        \"离开时间\",\n",
    "        \"持续时间(h)\",\n",
    "        \"EPD-γ剂量(mSv)\"\n",
    "    ],\n",
    "    dtype={\n",
    "        \"人员编号\": str,\n",
    "        \"进入时间\": \"datetime64\",\n",
    "        \"离开时间\": \"datetime64\"\n",
    "    }\n",
    ")\n",
    "data.head()"
   ]
  },
  {
   "cell_type": "code",
   "execution_count": null,
   "metadata": {},
   "outputs": [],
   "source": [
    "day_number = data.groupby(\n",
    "    # [\"人员编号\"]\n",
    "    # pd.Grouper(key=\"离开时间\", freq=\"D\"),\n",
    "    [pd.Grouper(key=\"离开时间\", freq=\"D\"), \"人员编号\", \"姓名\", \"处室\", \"单位\"]\n",
    ").agg({\"EPD-γ剂量(mSv)\": np.sum, \"人员编号\": np.count_nonzero})\n",
    "day_number"
   ]
  },
  {
   "cell_type": "code",
   "execution_count": null,
   "metadata": {},
   "outputs": [],
   "source": [
    "day_number.info()"
   ]
  },
  {
   "cell_type": "code",
   "execution_count": null,
   "metadata": {},
   "outputs": [],
   "source": [
    "day_number.query(\"处室 == '保健物理处'\")"
   ]
  }
 ],
 "metadata": {
  "interpreter": {
   "hash": "d62006d1f3422635846181a997a61e8ec3049f797e5d7dfe0cd1bb84092b7c19"
  },
  "kernelspec": {
   "display_name": "Python 3 (ipykernel)",
   "language": "python",
   "name": "python3"
  },
  "language_info": {
   "codemirror_mode": {
    "name": "ipython",
    "version": 3
   },
   "file_extension": ".py",
   "mimetype": "text/x-python",
   "name": "python",
   "nbconvert_exporter": "python",
   "pygments_lexer": "ipython3",
   "version": "3.9.6"
  }
 },
 "nbformat": 4,
 "nbformat_minor": 2
}
